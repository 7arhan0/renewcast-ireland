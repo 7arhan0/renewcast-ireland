{
 "cells": [
  {
   "cell_type": "markdown",
   "id": "a43b4ca1",
   "metadata": {},
   "source": [
    "This script loads ERA5 monthly NetCDF data, extracts ssrd (surface solar radiation downward), averages it across Ireland, and saves the cleaned output in a .csv format — optimized for ML workflows."
   ]
  },
  {
   "cell_type": "code",
   "execution_count": null,
   "id": "a8aa42c4",
   "metadata": {},
   "outputs": [],
   "source": [
    "#for working with NetCDF\n",
    "import xarray as xr\n",
    "import pandas as pd\n",
    "import os"
   ]
  },
  {
   "cell_type": "code",
   "execution_count": 2,
   "id": "6495430e",
   "metadata": {},
   "outputs": [],
   "source": [
    "def extract_solar_radiation_to_csv(input_path, output_path):\n",
    "    \"\"\"\n",
    "    Loads an ERA5 NetCDF file, extracts solar radiation (ssrd),\n",
    "    averages it over all grid points in Ireland, and saves as CSV.\n",
    "    \"\"\"\n",
    "    # Step 1: Load the NetCDF dataset\n",
    "    ds = xr.open_dataset(input_path)\n",
    "\n",
    "    # Step 2: Average over all lat/lon (get Ireland-wide value)\n",
    "    df = ds[\"ssrd\"].mean(dim=[\"latitude\", \"longitude\"]).to_dataframe().reset_index()\n",
    "\n",
    "    # Step 3: Keep only time and value columns, rename for clarity\n",
    "    df = df[[\"valid_time\", \"ssrd\"]]\n",
    "    df.columns = [\"Date\", \"Solar_Radiation_MJ_per_m2\"]\n",
    "\n",
    "    # Step 4: Sort and clean index\n",
    "    df.sort_values(\"Date\", inplace=True)\n",
    "    df.reset_index(drop=True, inplace=True)\n",
    "\n",
    "    # Step 5: Ensure output folder exists\n",
    "    os.makedirs(os.path.dirname(output_path), exist_ok=True)\n",
    "\n",
    "    # Step 6: Save to CSV\n",
    "    df.to_csv(output_path, index=False)\n",
    "    print(f\"✅ Solar radiation data saved to: {output_path}\")\n",
    "\n",
    "    return df\n"
   ]
  },
  {
   "cell_type": "code",
   "execution_count": 3,
   "id": "602f222d",
   "metadata": {},
   "outputs": [
    {
     "name": "stdout",
     "output_type": "stream",
     "text": [
      "✅ Solar radiation data saved to: ../data/processed/Solar_Radiation_Monthly_Ireland.csv\n"
     ]
    }
   ],
   "source": [
    "if __name__ == \"__main__\":\n",
    "    input_file = \"../data/raw/data_stream-moda_stepType-avgad.nc\"\n",
    "    output_file = \"../data/processed/Solar_Radiation_Monthly_Ireland.csv\"\n",
    "    extract_solar_radiation_to_csv(input_file, output_file)\n"
   ]
  }
 ],
 "metadata": {
  "kernelspec": {
   "display_name": "base",
   "language": "python",
   "name": "python3"
  },
  "language_info": {
   "codemirror_mode": {
    "name": "ipython",
    "version": 3
   },
   "file_extension": ".py",
   "mimetype": "text/x-python",
   "name": "python",
   "nbconvert_exporter": "python",
   "pygments_lexer": "ipython3",
   "version": "3.12.3"
  }
 },
 "nbformat": 4,
 "nbformat_minor": 5
}
