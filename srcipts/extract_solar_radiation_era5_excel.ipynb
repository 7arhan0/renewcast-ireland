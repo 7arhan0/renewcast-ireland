{
 "cells": [
  {
   "cell_type": "markdown",
   "id": "b9bccf6d",
   "metadata": {},
   "source": [
    "Clean & Export ERA5 NetCDF to Excel\n",
    "\n",
    "This script processes ERA5 monthly .nc files by:\n",
    "Extracting ssrd (surface solar radiation)\n",
    "Averaging it over all Ireland grid points\n",
    "Saving a clean monthly time series to Excel (.xlsx)"
   ]
  },
  {
   "cell_type": "code",
   "execution_count": 4,
   "id": "e59ba06b",
   "metadata": {},
   "outputs": [
    {
     "name": "stdout",
     "output_type": "stream",
     "text": [
      "Collecting netCDF4Note: you may need to restart the kernel to use updated packages.\n",
      "\n",
      "  Downloading netCDF4-1.7.2-cp312-cp312-win_amd64.whl.metadata (1.8 kB)\n",
      "Collecting cftime (from netCDF4)\n",
      "  Downloading cftime-1.6.4.post1-cp312-cp312-win_amd64.whl.metadata (8.9 kB)\n",
      "Requirement already satisfied: certifi in c:\\users\\sfarh\\anaconda3\\lib\\site-packages (from netCDF4) (2024.7.4)\n",
      "Requirement already satisfied: numpy in c:\\users\\sfarh\\anaconda3\\lib\\site-packages (from netCDF4) (1.26.4)\n",
      "Downloading netCDF4-1.7.2-cp312-cp312-win_amd64.whl (7.0 MB)\n",
      "   ---------------------------------------- 0.0/7.0 MB ? eta -:--:--\n",
      "   ---------------------------------------- 0.0/7.0 MB ? eta -:--:--\n",
      "   ---------------------------------------- 0.0/7.0 MB ? eta -:--:--\n",
      "   ---------------------------------------- 0.0/7.0 MB ? eta -:--:--\n",
      "   ---------------------------------------- 0.1/7.0 MB 391.3 kB/s eta 0:00:18\n",
      "    --------------------------------------- 0.2/7.0 MB 702.7 kB/s eta 0:00:10\n",
      "   -- ------------------------------------- 0.4/7.0 MB 1.5 MB/s eta 0:00:05\n",
      "   ---- ----------------------------------- 0.7/7.0 MB 2.3 MB/s eta 0:00:03\n",
      "   ----- ---------------------------------- 1.0/7.0 MB 3.0 MB/s eta 0:00:02\n",
      "   -------- ------------------------------- 1.5/7.0 MB 3.7 MB/s eta 0:00:02\n",
      "   ----------- ---------------------------- 2.1/7.0 MB 4.7 MB/s eta 0:00:02\n",
      "   -------------- ------------------------- 2.5/7.0 MB 5.1 MB/s eta 0:00:01\n",
      "   ---------------- ----------------------- 2.9/7.0 MB 5.4 MB/s eta 0:00:01\n",
      "   ----------------- ---------------------- 3.1/7.0 MB 5.3 MB/s eta 0:00:01\n",
      "   -------------------- ------------------- 3.6/7.0 MB 5.8 MB/s eta 0:00:01\n",
      "   ------------------------ --------------- 4.3/7.0 MB 6.4 MB/s eta 0:00:01\n",
      "   --------------------------- ------------ 4.8/7.0 MB 6.6 MB/s eta 0:00:01\n",
      "   ------------------------------ --------- 5.4/7.0 MB 7.0 MB/s eta 0:00:01\n",
      "   --------------------------------- ------ 5.8/7.0 MB 7.3 MB/s eta 0:00:01\n",
      "   ------------------------------------ --- 6.4/7.0 MB 7.4 MB/s eta 0:00:01\n",
      "   ---------------------------------------  6.9/7.0 MB 7.6 MB/s eta 0:00:01\n",
      "   ---------------------------------------- 7.0/7.0 MB 7.4 MB/s eta 0:00:00\n",
      "Downloading cftime-1.6.4.post1-cp312-cp312-win_amd64.whl (178 kB)\n",
      "   ---------------------------------------- 0.0/178.9 kB ? eta -:--:--\n",
      "   --------------------------------------- 178.9/178.9 kB 10.5 MB/s eta 0:00:00\n",
      "Installing collected packages: cftime, netCDF4\n",
      "Successfully installed cftime-1.6.4.post1 netCDF4-1.7.2\n"
     ]
    }
   ],
   "source": [
    "pip install netCDF4"
   ]
  },
  {
   "cell_type": "code",
   "execution_count": 1,
   "id": "2f1855a1",
   "metadata": {},
   "outputs": [],
   "source": [
    "#xarray to load .nc files\n",
    "import xarray as xr\n",
    "#pandas to clean and export the data\n",
    "import pandas as pd\n",
    "#to handle folders and paths\n",
    "import os"
   ]
  },
  {
   "cell_type": "code",
   "execution_count": 2,
   "id": "8a70b0bf",
   "metadata": {},
   "outputs": [],
   "source": [
    "def extract_solar_radiation_to_excel(input_path, output_path):\n",
    "    \"\"\"\n",
    "    Loads an ERA5 NetCDF file, extracts monthly solar radiation (ssrd),\n",
    "    averages it over all grid points in Ireland, and exports to Excel.\n",
    "    \"\"\"\n",
    "    # Load the NetCDF dataset\n",
    "    ds = xr.open_dataset(input_path)\n",
    "\n",
    "    # Extract and average solar radiation over space (lat/lon)\n",
    "    df = ds[\"ssrd\"].mean(dim=[\"latitude\", \"longitude\"]).to_dataframe().reset_index()\n",
    "\n",
    "    # Keep only necessary columns and rename them\n",
    "    df = df[[\"valid_time\", \"ssrd\"]]\n",
    "    df.columns = [\"Date\", \"Solar_Radiation_MJ_per_m2\"]\n",
    "\n",
    "    # Sort by date\n",
    "    df.sort_values(\"Date\", inplace=True)\n",
    "    df.reset_index(drop=True, inplace=True)\n",
    "\n",
    "    # Ensure output directory exists\n",
    "    os.makedirs(os.path.dirname(output_path), exist_ok=True)\n",
    "\n",
    "    # Export to Excel\n",
    "    df.to_excel(output_path, index=False)\n",
    "    print(f\"✅ Monthly solar radiation exported to: {output_path}\")\n",
    "\n",
    "    return df\n"
   ]
  },
  {
   "cell_type": "code",
   "execution_count": 3,
   "id": "50bbdea4",
   "metadata": {},
   "outputs": [
    {
     "name": "stdout",
     "output_type": "stream",
     "text": [
      "✅ Monthly solar radiation exported to: ../data/processed/Solar_Radiation_Monthly_Ireland.xlsx\n"
     ]
    }
   ],
   "source": [
    "if __name__ == \"__main__\":\n",
    "    input_file = \"../data/raw/data_stream-moda_stepType-avgad.nc\"\n",
    "    output_file = \"../data/processed/Solar_Radiation_Monthly_Ireland.xlsx\"\n",
    "    extract_solar_radiation_to_excel(input_file, output_file)"
   ]
  }
 ],
 "metadata": {
  "kernelspec": {
   "display_name": "base",
   "language": "python",
   "name": "python3"
  },
  "language_info": {
   "codemirror_mode": {
    "name": "ipython",
    "version": 3
   },
   "file_extension": ".py",
   "mimetype": "text/x-python",
   "name": "python",
   "nbconvert_exporter": "python",
   "pygments_lexer": "ipython3",
   "version": "3.12.4"
  }
 },
 "nbformat": 4,
 "nbformat_minor": 5
}
